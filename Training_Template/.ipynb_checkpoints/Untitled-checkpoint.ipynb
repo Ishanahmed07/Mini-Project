{
 "cells": [
  {
   "cell_type": "code",
   "execution_count": 1,
   "id": "c14adc58",
   "metadata": {},
   "outputs": [
    {
     "name": "stdout",
     "output_type": "stream",
     "text": [
      "Collecting Images for A\n",
      "Collecting Images for B\n",
      "Collecting Images for C\n",
      "Collecting Images for D\n",
      "Collecting Images for E\n",
      "Collecting Images for F\n",
      "Collecting Images for G\n",
      "Collecting Images for H\n",
      "Collecting Images for I\n",
      "Collecting Images for J\n",
      "Collecting Images for K\n",
      "Collecting Images for L\n",
      "Collecting Images for M\n",
      "Collecting Images for N\n",
      "Collecting Images for O\n",
      "Collecting Images for P\n",
      "Collecting Images for Q\n",
      "Collecting Images for R\n",
      "Collecting Images for S\n",
      "Collecting Images for T\n",
      "Collecting Images for U\n",
      "Collecting Images for V\n",
      "Collecting Images for W\n",
      "Collecting Images for X\n",
      "Collecting Images for Y\n",
      "Collecting Images for Z\n"
     ]
    }
   ],
   "source": [
    "\n",
    "import cv2\n",
    "import os\n",
    "import time\n",
    "import uuid\n",
    "\n",
    "IMAGES_PATH = 'Tensorflow\\workspace\\images\\CollectedImages'\n",
    "labels = ['A','B','C','D','E','F','G','H','I','J','K','L','M','N','O','P','Q','R','S','T','U','V','W','X','Y','Z']\n",
    "number_imgs = 15\n",
    "\n",
    "# Collecting images\n",
    "for label in labels:\n",
    "    !mkdir {'Tensorflow\\workspace\\images\\CollectedImages\\\\'+label}\n",
    "    cap = cv2.VideoCapture(0)\n",
    "    print('Collecting Images for {}'.format(label))\n",
    "    time.sleep(5)\n",
    "    for imgnum in range(number_imgs):\n",
    "        ret , frame = cap.read()\n",
    "        imagename = os.path.join(IMAGES_PATH, label, label + '.' + '{}.jpg'.format(str(uuid.uuid1())))\n",
    "        cv2.imwrite(imagename, frame)\n",
    "        cv2.imshow( 'frame', frame)\n",
    "        time. sleep(3)\n",
    "\n",
    "        if cv2.waitKey(1) & 0xFF == ord(\"q\"):\n",
    "            break\n",
    "    cap.release()"
   ]
  },
  {
   "cell_type": "code",
   "execution_count": null,
   "id": "dbefa5cc",
   "metadata": {},
   "outputs": [],
   "source": []
  }
 ],
 "metadata": {
  "kernelspec": {
   "display_name": "Python 3 (ipykernel)",
   "language": "python",
   "name": "python3"
  },
  "language_info": {
   "codemirror_mode": {
    "name": "ipython",
    "version": 3
   },
   "file_extension": ".py",
   "mimetype": "text/x-python",
   "name": "python",
   "nbconvert_exporter": "python",
   "pygments_lexer": "ipython3",
   "version": "3.10.2"
  }
 },
 "nbformat": 4,
 "nbformat_minor": 5
}
