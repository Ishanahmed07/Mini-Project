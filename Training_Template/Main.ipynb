{
 "cells": [
  {
   "cell_type": "code",
   "execution_count": 4,
   "id": "f42361d2",
   "metadata": {},
   "outputs": [],
   "source": [
    "import cv2  #opencv\n",
    "import os\n",
    "import time\n",
    "import uuid"
   ]
  },
  {
   "cell_type": "code",
   "execution_count": 5,
   "id": "924dd2f2",
   "metadata": {},
   "outputs": [],
   "source": [
    "IMAGES_PATH = 'Tensorflow/workspace/images/collectedimages'"
   ]
  },
  {
   "cell_type": "code",
   "execution_count": 6,
   "id": "a64d69ea",
   "metadata": {},
   "outputs": [],
   "source": [
    "labels =['a', 'b', 'c', 'd', 'e', 'f', 'g', 'h', 'i', 'j', 'k', 'l', 'm', 'n', 'o', 'p', 'q', 'r', 's', 't', 'u', 'v', 'w', 'x', 'y', 'z']\n",
    "no_images =15"
   ]
  },
  {
   "cell_type": "code",
   "execution_count": 7,
   "id": "448a8cf9",
   "metadata": {},
   "outputs": [
    {
     "name": "stdout",
     "output_type": "stream",
     "text": [
      "Collecting iamges for a\n",
      "Collecting iamges for b\n",
      "Collecting iamges for c\n",
      "Collecting iamges for d\n",
      "Collecting iamges for e\n",
      "Collecting iamges for f\n",
      "Collecting iamges for g\n",
      "Collecting iamges for h\n",
      "Collecting iamges for i\n",
      "Collecting iamges for j\n",
      "Collecting iamges for k\n",
      "Collecting iamges for l\n",
      "Collecting iamges for m\n",
      "Collecting iamges for n\n",
      "Collecting iamges for o\n",
      "Collecting iamges for p\n",
      "Collecting iamges for q\n",
      "Collecting iamges for r\n",
      "Collecting iamges for s\n",
      "Collecting iamges for t\n",
      "Collecting iamges for u\n",
      "Collecting iamges for v\n",
      "Collecting iamges for w\n",
      "Collecting iamges for x\n",
      "Collecting iamges for y\n",
      "Collecting iamges for z\n"
     ]
    }
   ],
   "source": [
    "for label in labels:\n",
    "    !mkdir {'Tensorflow\\workspace\\images\\collectedimages\\\\'+label}\n",
    "    cap = cv2.VideoCapture(0)\n",
    "    print('Collecting iamges for {}'.format(label))\n",
    "    time.sleep(5)\n",
    "    for imgnum in range(no_images):\n",
    "        ret, frame = cap.read()\n",
    "        imgname=os.path.join(IMAGES_PATH, label, label+'.'+'{}.jpg'.format(str(uuid.uuid1())))\n",
    "        cv2.imwrite(imgname,frame)\n",
    "        cv2.imshow('frame', frame)\n",
    "        time.sleep(2)\n",
    "        \n",
    "        if cv2.waitKey(1)&0xFF==ord('q'):\n",
    "            break\n",
    "            \n",
    "    cap.release()"
   ]
  },
  {
   "cell_type": "code",
   "execution_count": null,
   "id": "316a9145",
   "metadata": {},
   "outputs": [],
   "source": []
  }
 ],
 "metadata": {
  "kernelspec": {
   "display_name": "Python 3 (ipykernel)",
   "language": "python",
   "name": "python3"
  },
  "language_info": {
   "codemirror_mode": {
    "name": "ipython",
    "version": 3
   },
   "file_extension": ".py",
   "mimetype": "text/x-python",
   "name": "python",
   "nbconvert_exporter": "python",
   "pygments_lexer": "ipython3",
   "version": "3.10.2"
  }
 },
 "nbformat": 4,
 "nbformat_minor": 5
}
